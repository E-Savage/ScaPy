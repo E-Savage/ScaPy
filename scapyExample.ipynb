{
 "cells": [
  {
   "cell_type": "markdown",
   "metadata": {},
   "source": [
    "# *An Example With ScaPy*\n",
    "\n",
    "ScaPy is a library that can be used to create and manipulate network packets, but it is also capable of doing minor attacks as well. There are going to be a few examples of what ScaPy can do.\n",
    "\n",
    "- Creating basic packets\n",
    "- tracerouting \n",
    "- attacks   \n",
    "\n"
   ]
  },
  {
   "cell_type": "code",
   "execution_count": null,
   "metadata": {},
   "outputs": [
    {
     "ename": "OSError",
     "evalue": "[Errno 100] Network is down",
     "output_type": "error",
     "traceback": [
      "\u001b[0;31m---------------------------------------------------------------------------\u001b[0m",
      "\u001b[0;31mOSError\u001b[0m                                   Traceback (most recent call last)",
      "Cell \u001b[0;32mIn[2], line 10\u001b[0m\n\u001b[1;32m      7\u001b[0m \u001b[38;5;66;03m# create the packet\u001b[39;00m\n\u001b[1;32m      8\u001b[0m packet \u001b[38;5;241m=\u001b[39m IP(dst\u001b[38;5;241m=\u001b[39mtarget_ip)\u001b[38;5;241m/\u001b[39mTCP(dport\u001b[38;5;241m=\u001b[39mtarget_port, flags\u001b[38;5;241m=\u001b[39m\u001b[38;5;124m\"\u001b[39m\u001b[38;5;124mS\u001b[39m\u001b[38;5;124m\"\u001b[39m)\n\u001b[0;32m---> 10\u001b[0m \u001b[43msend\u001b[49m\u001b[43m(\u001b[49m\u001b[43mpacket\u001b[49m\u001b[43m)\u001b[49m\n\u001b[1;32m     12\u001b[0m \u001b[38;5;28mprint\u001b[39m(\u001b[38;5;124mf\u001b[39m\u001b[38;5;124m\"\u001b[39m\u001b[38;5;124mSent SYN packet to \u001b[39m\u001b[38;5;132;01m{\u001b[39;00mtarget_ip\u001b[38;5;132;01m}\u001b[39;00m\u001b[38;5;124m on port \u001b[39m\u001b[38;5;132;01m{\u001b[39;00mtarget_port\u001b[38;5;132;01m}\u001b[39;00m\u001b[38;5;124m\"\u001b[39m)\n",
      "File \u001b[0;32m~/anaconda3/envs/scapy/lib/python3.12/site-packages/scapy/sendrecv.py:486\u001b[0m, in \u001b[0;36msend\u001b[0;34m(x, **kargs)\u001b[0m\n\u001b[1;32m    484\u001b[0m     \u001b[38;5;28;01mdel\u001b[39;00m kargs[\u001b[38;5;124m\"\u001b[39m\u001b[38;5;124miface\u001b[39m\u001b[38;5;124m\"\u001b[39m]\n\u001b[1;32m    485\u001b[0m iface, ipv6 \u001b[38;5;241m=\u001b[39m _interface_selection(x)\n\u001b[0;32m--> 486\u001b[0m \u001b[38;5;28;01mreturn\u001b[39;00m \u001b[43m_send\u001b[49m\u001b[43m(\u001b[49m\n\u001b[1;32m    487\u001b[0m \u001b[43m    \u001b[49m\u001b[43mx\u001b[49m\u001b[43m,\u001b[49m\n\u001b[1;32m    488\u001b[0m \u001b[43m    \u001b[49m\u001b[38;5;28;43;01mlambda\u001b[39;49;00m\u001b[43m \u001b[49m\u001b[43miface\u001b[49m\u001b[43m:\u001b[49m\u001b[43m \u001b[49m\u001b[43miface\u001b[49m\u001b[38;5;241;43m.\u001b[39;49m\u001b[43ml3socket\u001b[49m\u001b[43m(\u001b[49m\u001b[43mipv6\u001b[49m\u001b[43m)\u001b[49m\u001b[43m,\u001b[49m\n\u001b[1;32m    489\u001b[0m \u001b[43m    \u001b[49m\u001b[43miface\u001b[49m\u001b[38;5;241;43m=\u001b[39;49m\u001b[43miface\u001b[49m\u001b[43m,\u001b[49m\n\u001b[1;32m    490\u001b[0m \u001b[43m    \u001b[49m\u001b[38;5;241;43m*\u001b[39;49m\u001b[38;5;241;43m*\u001b[39;49m\u001b[43mkargs\u001b[49m\n\u001b[1;32m    491\u001b[0m \u001b[43m\u001b[49m\u001b[43m)\u001b[49m\n",
      "File \u001b[0;32m~/anaconda3/envs/scapy/lib/python3.12/site-packages/scapy/sendrecv.py:446\u001b[0m, in \u001b[0;36m_send\u001b[0;34m(x, _func, inter, loop, iface, count, verbose, realtime, return_packets, socket, **kargs)\u001b[0m\n\u001b[1;32m    444\u001b[0m need_closing \u001b[38;5;241m=\u001b[39m socket \u001b[38;5;129;01mis\u001b[39;00m \u001b[38;5;28;01mNone\u001b[39;00m\n\u001b[1;32m    445\u001b[0m iface \u001b[38;5;241m=\u001b[39m resolve_iface(iface \u001b[38;5;129;01mor\u001b[39;00m conf\u001b[38;5;241m.\u001b[39miface)\n\u001b[0;32m--> 446\u001b[0m socket \u001b[38;5;241m=\u001b[39m socket \u001b[38;5;129;01mor\u001b[39;00m \u001b[43m_func\u001b[49m\u001b[43m(\u001b[49m\u001b[43miface\u001b[49m\u001b[43m)\u001b[49m\u001b[43m(\u001b[49m\u001b[43miface\u001b[49m\u001b[38;5;241;43m=\u001b[39;49m\u001b[43miface\u001b[49m\u001b[43m,\u001b[49m\u001b[43m \u001b[49m\u001b[38;5;241;43m*\u001b[39;49m\u001b[38;5;241;43m*\u001b[39;49m\u001b[43mkargs\u001b[49m\u001b[43m)\u001b[49m\n\u001b[1;32m    447\u001b[0m results \u001b[38;5;241m=\u001b[39m __gen_send(socket, x, inter\u001b[38;5;241m=\u001b[39minter, loop\u001b[38;5;241m=\u001b[39mloop,\n\u001b[1;32m    448\u001b[0m                      count\u001b[38;5;241m=\u001b[39mcount, verbose\u001b[38;5;241m=\u001b[39mverbose,\n\u001b[1;32m    449\u001b[0m                      realtime\u001b[38;5;241m=\u001b[39mrealtime, return_packets\u001b[38;5;241m=\u001b[39mreturn_packets)\n\u001b[1;32m    450\u001b[0m \u001b[38;5;28;01mif\u001b[39;00m need_closing:\n",
      "File \u001b[0;32m~/anaconda3/envs/scapy/lib/python3.12/site-packages/scapy/arch/linux/__init__.py:327\u001b[0m, in \u001b[0;36mL3PacketSocket.__init__\u001b[0;34m(self, iface, type, promisc, filter, nofilter, monitor)\u001b[0m\n\u001b[1;32m    318\u001b[0m \u001b[38;5;28;01mdef\u001b[39;00m \u001b[38;5;21m__init__\u001b[39m(\u001b[38;5;28mself\u001b[39m,\n\u001b[1;32m    319\u001b[0m              iface\u001b[38;5;241m=\u001b[39m\u001b[38;5;28;01mNone\u001b[39;00m,  \u001b[38;5;66;03m# type: Optional[Union[str, NetworkInterface]]\u001b[39;00m\n\u001b[1;32m    320\u001b[0m              \u001b[38;5;28mtype\u001b[39m\u001b[38;5;241m=\u001b[39mETH_P_ALL,  \u001b[38;5;66;03m# type: int\u001b[39;00m\n\u001b[0;32m   (...)\u001b[0m\n\u001b[1;32m    324\u001b[0m              monitor\u001b[38;5;241m=\u001b[39m\u001b[38;5;28;01mNone\u001b[39;00m,  \u001b[38;5;66;03m# type: Optional[Any]\u001b[39;00m\n\u001b[1;32m    325\u001b[0m              ):\n\u001b[1;32m    326\u001b[0m     \u001b[38;5;28mself\u001b[39m\u001b[38;5;241m.\u001b[39msend_socks \u001b[38;5;241m=\u001b[39m {}\n\u001b[0;32m--> 327\u001b[0m     \u001b[38;5;28;43msuper\u001b[39;49m\u001b[43m(\u001b[49m\u001b[43mL3PacketSocket\u001b[49m\u001b[43m,\u001b[49m\u001b[43m \u001b[49m\u001b[38;5;28;43mself\u001b[39;49m\u001b[43m)\u001b[49m\u001b[38;5;241;43m.\u001b[39;49m\u001b[38;5;21;43m__init__\u001b[39;49m\u001b[43m(\u001b[49m\n\u001b[1;32m    328\u001b[0m \u001b[43m        \u001b[49m\u001b[43miface\u001b[49m\u001b[38;5;241;43m=\u001b[39;49m\u001b[43miface\u001b[49m\u001b[43m,\u001b[49m\n\u001b[1;32m    329\u001b[0m \u001b[43m        \u001b[49m\u001b[38;5;28;43mtype\u001b[39;49m\u001b[38;5;241;43m=\u001b[39;49m\u001b[38;5;28;43mtype\u001b[39;49m\u001b[43m,\u001b[49m\n\u001b[1;32m    330\u001b[0m \u001b[43m        \u001b[49m\u001b[43mpromisc\u001b[49m\u001b[38;5;241;43m=\u001b[39;49m\u001b[43mpromisc\u001b[49m\u001b[43m,\u001b[49m\n\u001b[1;32m    331\u001b[0m \u001b[43m        \u001b[49m\u001b[38;5;28;43mfilter\u001b[39;49m\u001b[38;5;241;43m=\u001b[39;49m\u001b[38;5;28;43mfilter\u001b[39;49m\u001b[43m,\u001b[49m\n\u001b[1;32m    332\u001b[0m \u001b[43m        \u001b[49m\u001b[43mnofilter\u001b[49m\u001b[38;5;241;43m=\u001b[39;49m\u001b[43mnofilter\u001b[49m\u001b[43m,\u001b[49m\n\u001b[1;32m    333\u001b[0m \u001b[43m        \u001b[49m\u001b[43mmonitor\u001b[49m\u001b[38;5;241;43m=\u001b[39;49m\u001b[43mmonitor\u001b[49m\u001b[43m,\u001b[49m\n\u001b[1;32m    334\u001b[0m \u001b[43m    \u001b[49m\u001b[43m)\u001b[49m\n\u001b[1;32m    335\u001b[0m     \u001b[38;5;28mself\u001b[39m\u001b[38;5;241m.\u001b[39mfilter \u001b[38;5;241m=\u001b[39m \u001b[38;5;28mfilter\u001b[39m\n\u001b[1;32m    336\u001b[0m     \u001b[38;5;28mself\u001b[39m\u001b[38;5;241m.\u001b[39msend_socks \u001b[38;5;241m=\u001b[39m {network_name(\u001b[38;5;28mself\u001b[39m\u001b[38;5;241m.\u001b[39miface): \u001b[38;5;28mself\u001b[39m}\n",
      "File \u001b[0;32m~/anaconda3/envs/scapy/lib/python3.12/site-packages/scapy/arch/linux/__init__.py:235\u001b[0m, in \u001b[0;36mL2Socket.__init__\u001b[0;34m(self, iface, type, promisc, filter, nofilter, monitor)\u001b[0m\n\u001b[1;32m    233\u001b[0m     set_promisc(\u001b[38;5;28mself\u001b[39m\u001b[38;5;241m.\u001b[39mins, \u001b[38;5;28mself\u001b[39m\u001b[38;5;241m.\u001b[39miface)\n\u001b[1;32m    234\u001b[0m \u001b[38;5;28mself\u001b[39m\u001b[38;5;241m.\u001b[39mins\u001b[38;5;241m.\u001b[39mbind((\u001b[38;5;28mself\u001b[39m\u001b[38;5;241m.\u001b[39miface, \u001b[38;5;28mtype\u001b[39m))\n\u001b[0;32m--> 235\u001b[0m \u001b[43m_flush_fd\u001b[49m\u001b[43m(\u001b[49m\u001b[38;5;28;43mself\u001b[39;49m\u001b[38;5;241;43m.\u001b[39;49m\u001b[43mins\u001b[49m\u001b[38;5;241;43m.\u001b[39;49m\u001b[43mfileno\u001b[49m\u001b[43m(\u001b[49m\u001b[43m)\u001b[49m\u001b[43m)\u001b[49m\n\u001b[1;32m    236\u001b[0m \u001b[38;5;28mself\u001b[39m\u001b[38;5;241m.\u001b[39mins\u001b[38;5;241m.\u001b[39msetsockopt(\n\u001b[1;32m    237\u001b[0m     socket\u001b[38;5;241m.\u001b[39mSOL_SOCKET,\n\u001b[1;32m    238\u001b[0m     socket\u001b[38;5;241m.\u001b[39mSO_RCVBUF,\n\u001b[1;32m    239\u001b[0m     conf\u001b[38;5;241m.\u001b[39mbufsize\n\u001b[1;32m    240\u001b[0m )\n\u001b[1;32m    241\u001b[0m \u001b[38;5;66;03m# Receive Auxiliary Data (VLAN tags)\u001b[39;00m\n",
      "File \u001b[0;32m~/anaconda3/envs/scapy/lib/python3.12/site-packages/scapy/arch/linux/__init__.py:198\u001b[0m, in \u001b[0;36m_flush_fd\u001b[0;34m(fd)\u001b[0m\n\u001b[1;32m    196\u001b[0m r, w, e \u001b[38;5;241m=\u001b[39m select([fd], [], [], \u001b[38;5;241m0\u001b[39m)\n\u001b[1;32m    197\u001b[0m \u001b[38;5;28;01mif\u001b[39;00m r:\n\u001b[0;32m--> 198\u001b[0m     \u001b[43mos\u001b[49m\u001b[38;5;241;43m.\u001b[39;49m\u001b[43mread\u001b[49m\u001b[43m(\u001b[49m\u001b[43mfd\u001b[49m\u001b[43m,\u001b[49m\u001b[43m \u001b[49m\u001b[43mMTU\u001b[49m\u001b[43m)\u001b[49m\n\u001b[1;32m    199\u001b[0m \u001b[38;5;28;01melse\u001b[39;00m:\n\u001b[1;32m    200\u001b[0m     \u001b[38;5;28;01mbreak\u001b[39;00m\n",
      "\u001b[0;31mOSError\u001b[0m: [Errno 100] Network is down"
     ]
    }
   ],
   "source": [
    "from scapy.all import *\n",
    "\n",
    "# define the target ip and port\n",
    "target_ip = \"127.0.0.1\"\n",
    "target_port = 80\n",
    "\n",
    "# create the packet\n",
    "packet = IP(dst=target_ip)/TCP(dport=target_port, flags=\"S\")\n",
    "\n",
    "send(packet)\n",
    "\n",
    "print(f\"Sent SYN packet to {target_ip} on port {target_port}\")"
   ]
  }
 ],
 "metadata": {
  "kernelspec": {
   "display_name": "scapy",
   "language": "python",
   "name": "python3"
  },
  "language_info": {
   "codemirror_mode": {
    "name": "ipython",
    "version": 3
   },
   "file_extension": ".py",
   "mimetype": "text/x-python",
   "name": "python",
   "nbconvert_exporter": "python",
   "pygments_lexer": "ipython3",
   "version": "3.12.2"
  }
 },
 "nbformat": 4,
 "nbformat_minor": 2
}
