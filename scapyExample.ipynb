{
 "cells": [
  {
   "cell_type": "markdown",
   "metadata": {},
   "source": [
    "# *An Example With ScaPy*\n",
    "\n",
    "ScaPy is a library that can be used to create and manipulate network packets, but it is also capable of doing minor attacks as well. There are going to be a few examples of what ScaPy can do.\n",
    "\n",
    "- Creating basic packets\n",
    "- tracerouting \n",
    "- attacks   \n",
    "\n"
   ]
  },
  {
   "cell_type": "code",
   "execution_count": 5,
   "metadata": {},
   "outputs": [
    {
     "name": "stdout",
     "output_type": "stream",
     "text": [
      "Begin emission\n",
      ".*.\n",
      "Finished sending 1 packets\n",
      "\n",
      "Received 3 packets, got 1 answers, remaining 0 packets\n",
      ".\n",
      "Sent 1 packets.\n",
      ".\n",
      "Sent 1 packets.\n",
      "Begin emission\n",
      ".*\n",
      "Finished sending 1 packets\n",
      "\n",
      "Received 2 packets, got 1 answers, remaining 0 packets\n",
      "###[ IP ]###\n",
      "  version   = 4\n",
      "  ihl       = 5\n",
      "  tos       = 0x0\n",
      "  len       = 40\n",
      "  id        = 0\n",
      "  flags     = DF\n",
      "  frag      = 0\n",
      "  ttl       = 64\n",
      "  proto     = tcp\n",
      "  chksum    = 0x3cce\n",
      "  src       = 127.0.0.1\n",
      "  dst       = 127.0.0.1\n",
      "  \\options   \\\n",
      "###[ TCP ]###\n",
      "     sport     = http\n",
      "     dport     = 62268\n",
      "     seq       = 2485215397\n",
      "     ack       = 0\n",
      "     dataofs   = 5\n",
      "     reserved  = 0\n",
      "     flags     = R\n",
      "     window    = 0\n",
      "     chksum    = 0xc98a\n",
      "     urgptr    = 0\n",
      "     options   = []\n",
      "\n"
     ]
    }
   ],
   "source": [
    "from scapy.all import *\n",
    "\n",
    "# Define target IP and port (localhost and HTTP port)\n",
    "target_ip = \"127.0.0.1\"\n",
    "target_port = 80\n",
    "\n",
    "# Craft the HTTP POST request with \"Hello, World!\" as the body\n",
    "http_request = (\n",
    "    b\"POST / HTTP/1.1\\r\\n\"\n",
    "    b\"Host: localhost\\r\\n\"\n",
    "    b\"Content-Type: text/plain\\r\\n\"\n",
    "    b\"Content-Length: 13\\r\\n\\r\\n\"  # The length of \"Hello, World!\" is 13\n",
    "    b\"Hello, World!\"\n",
    ")\n",
    "\n",
    "# Build the IP layer and TCP layer\n",
    "ip_layer = IP(dst=target_ip)\n",
    "tcp_layer = TCP(dport=target_port, sport=RandShort(), flags=\"S\")\n",
    "\n",
    "# Send SYN to initiate a TCP connection and receive SYN-ACK\n",
    "syn_ack = sr1(ip_layer/tcp_layer, timeout=1)\n",
    "\n",
    "# Complete the TCP handshake with ACK if SYN-ACK received\n",
    "if syn_ack and syn_ack.haslayer(TCP) and syn_ack[TCP].flags == 0x12:\n",
    "    # Craft ACK packet\n",
    "    ack_packet = ip_layer / TCP(dport=target_port, sport=syn_ack[TCP].dport, seq=syn_ack.ack, ack=syn_ack.seq + 1, flags=\"A\")\n",
    "    send(ack_packet)\n",
    "\n",
    "    # Send HTTP POST request with \"Hello, World!\" in the body\n",
    "    send(ip_layer / TCP(dport=target_port, sport=syn_ack[TCP].dport, seq=syn_ack.ack, ack=syn_ack.seq + 1, flags=\"PA\") / http_request)\n",
    "    \n",
    "    # Receive the server's response\n",
    "    response = sr1(ip_layer / TCP(dport=target_port, sport=syn_ack[TCP].dport, seq=syn_ack.ack + len(http_request), ack=syn_ack.seq + 1, flags=\"A\"), timeout=1)\n",
    "    \n",
    "    if response:\n",
    "        response.show()\n",
    "else:\n",
    "    print(\"Failed to establish a TCP connection.\")\n"
   ]
  },
  {
   "cell_type": "markdown",
   "metadata": {},
   "source": [
    "Before executing the above code wireshark was opened and set to capture mode. This experiment to prevent clutter of wireshark interface only uses the loopback interface which is for local host. Below you can see the screenshot from the wireshark network trace from above if you look closely at the screenshot you can see a ***hello, world*** in the network trace \n",
    "\n",
    "\n",
    "![Alt Text](screenshots/Screenshot%20from%202024-11-05%2021-34-43.png)\n"
   ]
  },
  {
   "cell_type": "markdown",
   "metadata": {},
   "source": [
    "# ***Sniffing packets using scapy***\n",
    "\n",
    "So, I would like to test the general functinality of how ScaPy would do packet sniffing so I will be uisng my laptop to run this experiment, hopefully I do not get kicked off the web.....  \n",
    "\n",
    "so first I will use IW to create a virtual interface and then I will use it to monitor the wifi traffic from my computer. \n",
    "\n",
    "so first thing is using the following command to set-up the virtual interface in wireless mode\n",
    "\n",
    "*sudo iw dev wlp0s20f3 interface add mon0 type monitor*\n",
    "\n",
    "and then using the following scapy mode to capture any data being received\n",
    "\n",
    "**None of my traffic was being detected through the virtual interface so I decided to go with the standard interface on my machine**"
   ]
  },
  {
   "cell_type": "code",
   "execution_count": 7,
   "metadata": {},
   "outputs": [
    {
     "name": "stdout",
     "output_type": "stream",
     "text": [
      "DNS Query for: mobile.events.data.microsoft.com.\n",
      "DNS Query for: mobile.events.data.microsoft.com.\n",
      "DNS Query for: onedscolprdwus20.westus.cloudapp.azure.com.\n",
      "DNS Query for: ipv4only.arpa.\n",
      "DNS Query for: mozilla.cloudflare-dns.com.\n",
      "DNS Query for: mozilla.cloudflare-dns.com.\n",
      "DNS Query for: my-haproxy.umassd.edu.\n",
      "DNS Query for: login_umassd_edu.alias.cirrusidentity.com.\n",
      "DNS Query for: doh.test.\n",
      "DNS Query for: doh.test.\n",
      "DNS Query for: ipv4only.arpa.\n",
      "DNS Query for: connectivity-check.ubuntu.com.\n",
      "DNS Query for: notifications.netflix.com.\n",
      "DNS Query for: notifications.netflix.com.\n",
      "DNS Query for: aax-us-east-retail-rtb.amazon.com.\n",
      "DNS Query for: aax-us-east-retail-rtb.amazon.com.\n",
      "DNS Query for: aax-us-east-retail-rtb.amazon.com.\n",
      "DNS Query for: aax-us-east-retail-rtb.amazon.com.\n",
      "DNS Query for: aax-us-east-retail-rtb.amazon.com.umassd.edu.\n",
      "DNS Query for: aax-us-east-retail-rtb.amazon.com.umassd.edu.\n",
      "DNS Query for: aax-us-east-retail-rtb.amazon.com.umassd.edu.\n",
      "DNS Query for: aax-us-east-retail-rtb.amazon.com.umassd.edu.\n",
      "DNS Query for: aax-us-east-retail-rtb.amazon.com.umdar.umassd.edu.\n",
      "DNS Query for: aax-us-east-retail-rtb.amazon.com.umdar.umassd.edu.\n",
      "DNS Query for: aax-us-east-retail-rtb.amazon.com.umdar.umassd.edu.\n",
      "DNS Query for: aax-us-east-retail-rtb.amazon.com.umdar.umassd.edu.\n",
      "DNS Query for: amazon.partners.tremorhub.com.\n",
      "DNS Query for: amazon.partners.tremorhub.com.\n",
      "DNS Query for: amazon.partners.tremorhub.com.\n",
      "DNS Query for: amazon.partners.tremorhub.com.\n",
      "DNS Query for: amazon.partners.tremorhub.com.umassd.edu.\n",
      "DNS Query for: amazon.partners.tremorhub.com.umassd.edu.\n",
      "DNS Query for: amazon.partners.tremorhub.com.umassd.edu.\n",
      "DNS Query for: amazon.partners.tremorhub.com.umassd.edu.\n",
      "DNS Query for: amazon.partners.tremorhub.com.umdar.umassd.edu.\n",
      "DNS Query for: amazon.partners.tremorhub.com.umdar.umassd.edu.\n",
      "DNS Query for: amazon.partners.tremorhub.com.umdar.umassd.edu.\n",
      "DNS Query for: amazon.partners.tremorhub.com.umdar.umassd.edu.\n",
      "DNS Query for: amazon.partners.tremorhub.com.\n",
      "DNS Query for: amazon.partners.tremorhub.com.\n",
      "DNS Query for: amazon.partners.tremorhub.com.\n",
      "DNS Query for: amazon.partners.tremorhub.com.\n",
      "DNS Query for: amazon.partners.tremorhub.com.umassd.edu.\n",
      "DNS Query for: amazon.partners.tremorhub.com.umassd.edu.\n",
      "DNS Query for: amazon.partners.tremorhub.com.umassd.edu.\n",
      "DNS Query for: amazon.partners.tremorhub.com.umassd.edu.\n",
      "DNS Query for: amazon.partners.tremorhub.com.umdar.umassd.edu.\n",
      "DNS Query for: amazon.partners.tremorhub.com.umdar.umassd.edu.\n",
      "DNS Query for: amazon.partners.tremorhub.com.umdar.umassd.edu.\n",
      "DNS Query for: amazon.partners.tremorhub.com.umdar.umassd.edu.\n"
     ]
    },
    {
     "data": {
      "text/plain": [
       "<Sniffed: TCP:0 UDP:0 ICMP:0 Other:0>"
      ]
     },
     "execution_count": 7,
     "metadata": {},
     "output_type": "execute_result"
    }
   ],
   "source": [
    "from scapy.all import *\n",
    "\n",
    "def packet_handler(packet):\n",
    "    if packet.haslayer(\"DNS\") and packet[\"DNS\"].qr == 0:  # qr=0 indicates a DNS query\n",
    "        domain_name = packet[\"DNS\"].qd.qname.decode()\n",
    "        print(f\"DNS Query for: {domain_name}\")\n",
    "\n",
    "# Start sniffing on the interface\n",
    "sniff(iface=\"wlp0s20f3\", prn=packet_handler, filter=\"udp port 53\", store=0)  # Capture DNS on port 53"
   ]
  },
  {
   "cell_type": "markdown",
   "metadata": {},
   "source": [
    "For reference the only webpages I opened up are netflix, hulu, and amazon, respectively and hulu did not appear in the list of the websties that was found. but when amazon was opened up there was a lot of traffic that came through."
   ]
  },
  {
   "cell_type": "markdown",
   "metadata": {},
   "source": [
    "#Reading Pcaps\n",
    "\n",
    "\n",
    "Scapy can be used to read PCAPS so now we will be using the the pcap from earlier to see how scapy can read and then process it into a pdf"
   ]
  },
  {
   "cell_type": "code",
   "execution_count": 11,
   "metadata": {},
   "outputs": [
    {
     "name": "stdout",
     "output_type": "stream",
     "text": [
      "<test1.pcap: TCP:19 UDP:12 ICMP:0 Other:0>\n"
     ]
    }
   ],
   "source": [
    "from scapy.all import rdpcap\n",
    "import pyx\n",
    "global network_trace \n",
    "\n",
    "network_trace = rdpcap('network_traffic_files/test1.pcap')\n",
    "\n",
    "print(network_trace)"
   ]
  },
  {
   "cell_type": "markdown",
   "metadata": {},
   "source": [
    "Now we can go through and send all of the packet information to a pdf"
   ]
  },
  {
   "cell_type": "code",
   "execution_count": 12,
   "metadata": {},
   "outputs": [
    {
     "name": "stdout",
     "output_type": "stream",
     "text": [
      "###[ Ethernet ]###\n",
      "  dst       = 00:00:00:00:00:00\n",
      "  src       = 00:00:00:00:00:00\n",
      "  type      = IPv4\n",
      "###[ IP ]###\n",
      "     version   = 4\n",
      "     ihl       = 5\n",
      "     tos       = 0x0\n",
      "     len       = 139\n",
      "     id        = 24377\n",
      "     flags     = DF\n",
      "     frag      = 0\n",
      "     ttl       = 1\n",
      "     proto     = udp\n",
      "     chksum    = 0x1bf3\n",
      "     src       = 127.0.0.53\n",
      "     dst       = 127.0.0.1\n",
      "     \\options   \\\n",
      "###[ UDP ]###\n",
      "        sport     = domain\n",
      "        dport     = 54083\n",
      "        len       = 119\n",
      "        chksum    = 0xfebe\n",
      "###[ DNS ]###\n",
      "           id        = 32758\n",
      "           qr        = 1\n",
      "           opcode    = QUERY\n",
      "           aa        = 0\n",
      "           tc        = 0\n",
      "           rd        = 1\n",
      "           ra        = 1\n",
      "           z         = 0\n",
      "           ad        = 0\n",
      "           cd        = 0\n",
      "           rcode     = ok\n",
      "           qdcount   = 1\n",
      "           ancount   = 2\n",
      "           nscount   = 0\n",
      "           arcount   = 1\n",
      "           \\qd        \\\n",
      "            |###[ DNS Question Record ]###\n",
      "            |  qname     = b'mozilla.cloudflare-dns.com.'\n",
      "            |  qtype     = AAAA\n",
      "            |  unicastresponse= 0\n",
      "            |  qclass    = IN\n",
      "           \\an        \\\n",
      "            |###[ DNS Resource Record ]###\n",
      "            |  rrname    = b'mozilla.cloudflare-dns.com.'\n",
      "            |  type      = AAAA\n",
      "            |  cacheflush= 0\n",
      "            |  rclass    = IN\n",
      "            |  ttl       = 229\n",
      "            |  rdlen     = None\n",
      "            |  rdata     = 2803:f800:53::4\n",
      "            |###[ DNS Resource Record ]###\n",
      "            |  rrname    = b'mozilla.cloudflare-dns.com.'\n",
      "            |  type      = AAAA\n",
      "            |  cacheflush= 0\n",
      "            |  rclass    = IN\n",
      "            |  ttl       = 229\n",
      "            |  rdlen     = None\n",
      "            |  rdata     = 2a06:98c1:52::4\n",
      "           \\ns        \\\n",
      "           \\ar        \\\n",
      "            |###[ DNS OPT Resource Record ]###\n",
      "            |  rrname    = b'.'\n",
      "            |  type      = OPT\n",
      "            |  rclass    = 65494\n",
      "            |  extrcode  = 0\n",
      "            |  version   = 0\n",
      "            |  z         = 0\n",
      "            |  rdlen     = None\n",
      "            |  \\rdata     \\\n",
      "\n"
     ]
    }
   ],
   "source": [
    "network_trace[22].show()"
   ]
  },
  {
   "cell_type": "code",
   "execution_count": 7,
   "metadata": {},
   "outputs": [
    {
     "ename": "ImportError",
     "evalue": "PyX and its dependencies must be installed",
     "output_type": "error",
     "traceback": [
      "\u001b[0;31m---------------------------------------------------------------------------\u001b[0m",
      "\u001b[0;31mImportError\u001b[0m                               Traceback (most recent call last)",
      "Cell \u001b[0;32mIn[7], line 8\u001b[0m\n\u001b[1;32m      5\u001b[0m packet_cavnas \u001b[38;5;241m=\u001b[39m pyx\u001b[38;5;241m.\u001b[39mcanvas\u001b[38;5;241m.\u001b[39mcanvas()\n\u001b[1;32m      7\u001b[0m network_trace \u001b[38;5;241m=\u001b[39m rdpcap(\u001b[38;5;124m'\u001b[39m\u001b[38;5;124mnetwork_traffic_files/test1.pcap\u001b[39m\u001b[38;5;124m'\u001b[39m)\n\u001b[0;32m----> 8\u001b[0m \u001b[43mnetwork_trace\u001b[49m\u001b[43m[\u001b[49m\u001b[38;5;241;43m15\u001b[39;49m\u001b[43m]\u001b[49m\u001b[38;5;241;43m.\u001b[39;49m\u001b[43mpdfdump\u001b[49m\u001b[43m(\u001b[49m\u001b[43mfilename\u001b[49m\u001b[38;5;241;43m=\u001b[39;49m\u001b[38;5;124;43m\"\u001b[39;49m\u001b[38;5;124;43mreports/packet15.pdf\u001b[39;49m\u001b[38;5;124;43m\"\u001b[39;49m\u001b[43m,\u001b[49m\u001b[43m \u001b[49m\u001b[43mlayer_shift\u001b[49m\u001b[38;5;241;43m=\u001b[39;49m\u001b[38;5;241;43m1\u001b[39;49m\u001b[43m)\u001b[49m\n",
      "File \u001b[0;32m~/anaconda3/envs/scapy/lib/python3.12/site-packages/scapy/base_classes.py:557\u001b[0m, in \u001b[0;36m_CanvasDumpExtended.pdfdump\u001b[0;34m(self, filename, **kargs)\u001b[0m\n\u001b[1;32m    555\u001b[0m \u001b[38;5;28;01mfrom\u001b[39;00m \u001b[38;5;21;01mscapy\u001b[39;00m\u001b[38;5;21;01m.\u001b[39;00m\u001b[38;5;21;01mconfig\u001b[39;00m \u001b[38;5;28;01mimport\u001b[39;00m conf\n\u001b[1;32m    556\u001b[0m \u001b[38;5;28;01mfrom\u001b[39;00m \u001b[38;5;21;01mscapy\u001b[39;00m\u001b[38;5;21;01m.\u001b[39;00m\u001b[38;5;21;01mutils\u001b[39;00m \u001b[38;5;28;01mimport\u001b[39;00m get_temp_file, ContextManagerSubprocess\n\u001b[0;32m--> 557\u001b[0m canvas \u001b[38;5;241m=\u001b[39m \u001b[38;5;28;43mself\u001b[39;49m\u001b[38;5;241;43m.\u001b[39;49m\u001b[43mcanvas_dump\u001b[49m\u001b[43m(\u001b[49m\u001b[38;5;241;43m*\u001b[39;49m\u001b[38;5;241;43m*\u001b[39;49m\u001b[43mkargs\u001b[49m\u001b[43m)\u001b[49m\n\u001b[1;32m    558\u001b[0m \u001b[38;5;28;01mif\u001b[39;00m filename \u001b[38;5;129;01mis\u001b[39;00m \u001b[38;5;28;01mNone\u001b[39;00m:\n\u001b[1;32m    559\u001b[0m     fname \u001b[38;5;241m=\u001b[39m get_temp_file(autoext\u001b[38;5;241m=\u001b[39mkargs\u001b[38;5;241m.\u001b[39mget(\u001b[38;5;124m\"\u001b[39m\u001b[38;5;124msuffix\u001b[39m\u001b[38;5;124m\"\u001b[39m, \u001b[38;5;124m\"\u001b[39m\u001b[38;5;124m.pdf\u001b[39m\u001b[38;5;124m\"\u001b[39m))\n",
      "File \u001b[0;32m~/anaconda3/envs/scapy/lib/python3.12/site-packages/scapy/packet.py:825\u001b[0m, in \u001b[0;36mPacket.canvas_dump\u001b[0;34m(self, layer_shift, rebuild)\u001b[0m\n\u001b[1;32m    822\u001b[0m \u001b[38;5;28;01mdef\u001b[39;00m \u001b[38;5;21mcanvas_dump\u001b[39m(\u001b[38;5;28mself\u001b[39m, layer_shift\u001b[38;5;241m=\u001b[39m\u001b[38;5;241m0\u001b[39m, rebuild\u001b[38;5;241m=\u001b[39m\u001b[38;5;241m1\u001b[39m):\n\u001b[1;32m    823\u001b[0m     \u001b[38;5;66;03m# type: (int, int) -> pyx.canvas.canvas\u001b[39;00m\n\u001b[1;32m    824\u001b[0m     \u001b[38;5;28;01mif\u001b[39;00m PYX \u001b[38;5;241m==\u001b[39m \u001b[38;5;241m0\u001b[39m:\n\u001b[0;32m--> 825\u001b[0m         \u001b[38;5;28;01mraise\u001b[39;00m \u001b[38;5;167;01mImportError\u001b[39;00m(\u001b[38;5;124m\"\u001b[39m\u001b[38;5;124mPyX and its dependencies must be installed\u001b[39m\u001b[38;5;124m\"\u001b[39m)\n\u001b[1;32m    826\u001b[0m     canvas \u001b[38;5;241m=\u001b[39m pyx\u001b[38;5;241m.\u001b[39mcanvas\u001b[38;5;241m.\u001b[39mcanvas()\n\u001b[1;32m    827\u001b[0m     \u001b[38;5;28;01mif\u001b[39;00m rebuild:\n",
      "\u001b[0;31mImportError\u001b[0m: PyX and its dependencies must be installed"
     ]
    }
   ],
   "source": [
    "import pyx.canvas\n",
    "from scapy.all import *\n",
    "import pyx\n",
    "\n",
    "packet_cavnas = pyx.canvas.canvas()\n",
    "\n",
    "network_trace = rdpcap('network_traffic_files/test1.pcap')\n",
    "network_trace[15].pdfdump(filename=\"reports/packet15.pdf\", layer_shift=1)"
   ]
  },
  {
   "cell_type": "code",
   "execution_count": null,
   "metadata": {},
   "outputs": [],
   "source": []
  }
 ],
 "metadata": {
  "kernelspec": {
   "display_name": "scapy",
   "language": "python",
   "name": "python3"
  },
  "language_info": {
   "codemirror_mode": {
    "name": "ipython",
    "version": 3
   },
   "file_extension": ".py",
   "mimetype": "text/x-python",
   "name": "python",
   "nbconvert_exporter": "python",
   "pygments_lexer": "ipython3",
   "version": "3.12.2"
  }
 },
 "nbformat": 4,
 "nbformat_minor": 2
}
