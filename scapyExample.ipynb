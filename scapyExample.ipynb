{
 "cells": [
  {
   "cell_type": "markdown",
   "metadata": {},
   "source": [
    "# *An Example With ScaPy*\n",
    "\n",
    "ScaPy is a library that can be used to create and manipulate network packets, but it is also capable of doing minor attacks as well. There are going to be a few examples of what ScaPy can do.\n",
    "\n",
    "- Creating basic packets\n",
    "- tracerouting \n",
    "- attacks   \n",
    "\n"
   ]
  },
  {
   "cell_type": "code",
   "execution_count": 5,
   "metadata": {},
   "outputs": [
    {
     "name": "stdout",
     "output_type": "stream",
     "text": [
      "Begin emission\n",
      ".*.\n",
      "Finished sending 1 packets\n",
      "\n",
      "Received 3 packets, got 1 answers, remaining 0 packets\n",
      ".\n",
      "Sent 1 packets.\n",
      ".\n",
      "Sent 1 packets.\n",
      "Begin emission\n",
      ".*\n",
      "Finished sending 1 packets\n",
      "\n",
      "Received 2 packets, got 1 answers, remaining 0 packets\n",
      "###[ IP ]###\n",
      "  version   = 4\n",
      "  ihl       = 5\n",
      "  tos       = 0x0\n",
      "  len       = 40\n",
      "  id        = 0\n",
      "  flags     = DF\n",
      "  frag      = 0\n",
      "  ttl       = 64\n",
      "  proto     = tcp\n",
      "  chksum    = 0x3cce\n",
      "  src       = 127.0.0.1\n",
      "  dst       = 127.0.0.1\n",
      "  \\options   \\\n",
      "###[ TCP ]###\n",
      "     sport     = http\n",
      "     dport     = 62268\n",
      "     seq       = 2485215397\n",
      "     ack       = 0\n",
      "     dataofs   = 5\n",
      "     reserved  = 0\n",
      "     flags     = R\n",
      "     window    = 0\n",
      "     chksum    = 0xc98a\n",
      "     urgptr    = 0\n",
      "     options   = []\n",
      "\n"
     ]
    }
   ],
   "source": [
    "from scapy.all import *\n",
    "\n",
    "# Define target IP and port (localhost and HTTP port)\n",
    "target_ip = \"127.0.0.1\"\n",
    "target_port = 80\n",
    "\n",
    "# Craft the HTTP POST request with \"Hello, World!\" as the body\n",
    "http_request = (\n",
    "    b\"POST / HTTP/1.1\\r\\n\"\n",
    "    b\"Host: localhost\\r\\n\"\n",
    "    b\"Content-Type: text/plain\\r\\n\"\n",
    "    b\"Content-Length: 13\\r\\n\\r\\n\"  # The length of \"Hello, World!\" is 13\n",
    "    b\"Hello, World!\"\n",
    ")\n",
    "\n",
    "# Build the IP layer and TCP layer\n",
    "ip_layer = IP(dst=target_ip)\n",
    "tcp_layer = TCP(dport=target_port, sport=RandShort(), flags=\"S\")\n",
    "\n",
    "# Send SYN to initiate a TCP connection and receive SYN-ACK\n",
    "syn_ack = sr1(ip_layer/tcp_layer, timeout=1)\n",
    "\n",
    "# Complete the TCP handshake with ACK if SYN-ACK received\n",
    "if syn_ack and syn_ack.haslayer(TCP) and syn_ack[TCP].flags == 0x12:\n",
    "    # Craft ACK packet\n",
    "    ack_packet = ip_layer / TCP(dport=target_port, sport=syn_ack[TCP].dport, seq=syn_ack.ack, ack=syn_ack.seq + 1, flags=\"A\")\n",
    "    send(ack_packet)\n",
    "\n",
    "    # Send HTTP POST request with \"Hello, World!\" in the body\n",
    "    send(ip_layer / TCP(dport=target_port, sport=syn_ack[TCP].dport, seq=syn_ack.ack, ack=syn_ack.seq + 1, flags=\"PA\") / http_request)\n",
    "    \n",
    "    # Receive the server's response\n",
    "    response = sr1(ip_layer / TCP(dport=target_port, sport=syn_ack[TCP].dport, seq=syn_ack.ack + len(http_request), ack=syn_ack.seq + 1, flags=\"A\"), timeout=1)\n",
    "    \n",
    "    if response:\n",
    "        response.show()\n",
    "else:\n",
    "    print(\"Failed to establish a TCP connection.\")\n"
   ]
  },
  {
   "cell_type": "markdown",
   "metadata": {},
   "source": [
    "Before executing the above code wireshark was opened and set to capture mode. This experiment to prevent clutter of wireshark interface only uses the loopback interface which is for local host. Below you can see the screenshot from the wireshark network trace from above if you look closely at the screenshot you can see a ***hello, world*** in the network trace \n",
    "\n",
    "\n",
    "![Alt Text](screenshots/Screenshot%20from%202024-11-05%2021-34-43.png)\n"
   ]
  },
  {
   "cell_type": "markdown",
   "metadata": {},
   "source": []
  }
 ],
 "metadata": {
  "kernelspec": {
   "display_name": "scapy",
   "language": "python",
   "name": "python3"
  },
  "language_info": {
   "codemirror_mode": {
    "name": "ipython",
    "version": 3
   },
   "file_extension": ".py",
   "mimetype": "text/x-python",
   "name": "python",
   "nbconvert_exporter": "python",
   "pygments_lexer": "ipython3",
   "version": "3.12.2"
  }
 },
 "nbformat": 4,
 "nbformat_minor": 2
}
